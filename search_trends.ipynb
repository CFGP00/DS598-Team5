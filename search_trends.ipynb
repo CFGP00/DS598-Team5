{
  "nbformat": 4,
  "nbformat_minor": 2,
  "metadata": {
    "kernelspec": {
      "name": "synapse_pyspark",
      "display_name": "Synapse PySpark"
    },
    "language_info": {
      "name": "python"
    },
    "save_output": true,
    "synapse_widget": {
      "version": "0.1",
      "state": {}
    }
  },
  "cells": [
    {
      "cell_type": "code",
      "execution_count": 38,
      "outputs": [],
      "metadata": {},
      "source": [
        "from azure.storage.blob import BlobServiceClient\n",
        "from io import BytesIO\n",
        "import pandas as pd\n",
        "import os\n",
        "\n",
        "# Get connection string\n",
        "connection_string = os.getenv(\"AZURE_STORAGE_CONNECTION_STRING\")\n",
        "\n",
        "container_name = \"team5container\"\n",
        "blob_path = \"Silver/Search Trends/search_us.csv\" \n",
        "\n",
        "# Connect and download\n",
        "blob_service_client = BlobServiceClient.from_connection_string(connection_string)\n",
        "blob_client = blob_service_client.get_blob_client(container=container_name, blob=blob_path)\n",
        "\n",
        "stream = BytesIO()\n",
        "blob_client.download_blob().readinto(stream)\n",
        "stream.seek(0)\n",
        "\n",
        "# Read CSV into DataFrame\n",
        "df= pd.read_csv(stream)\n",
        "df.head()"
      ]
    },
    {
      "cell_type": "code",
      "execution_count": 39,
      "outputs": [],
      "metadata": {},
      "source": [
        "df.dtypes"
      ]
    },
    {
      "cell_type": "code",
      "execution_count": 40,
      "outputs": [],
      "metadata": {},
      "source": [
        "df.rename(columns={'Week': 'date'}, inplace=True)\n",
        "df.rename(columns={'iphone: (United States)': 'iphone'}, inplace=True)\n",
        "df.rename(columns={'macbook: (United States)': 'macbook'}, inplace=True)\n",
        "df.rename(columns={'ipad: (United States)': 'ipad'}, inplace=True)"
      ]
    },
    {
      "cell_type": "code",
      "execution_count": 41,
      "outputs": [],
      "metadata": {},
      "source": [
        "df.head()"
      ]
    },
    {
      "cell_type": "code",
      "execution_count": 42,
      "outputs": [],
      "metadata": {},
      "source": [
        "df[[\"iphone\", \"macbook\", \"ipad\"]].describe()\n",
        ""
      ]
    },
    {
      "cell_type": "code",
      "execution_count": 43,
      "outputs": [],
      "metadata": {},
      "source": [
        "from scipy.stats import zscore\n",
        "\n",
        "cols = ['iphone', 'macbook', 'ipad']\n",
        "df_z = df.copy()\n",
        "df_z[cols] = df_z[cols].apply(zscore)\n",
        ""
      ]
    },
    {
      "cell_type": "code",
      "execution_count": 44,
      "outputs": [],
      "metadata": {},
      "source": [
        "df_z['sentiment_score'] = df_z[cols].mean(axis=1)\n",
        ""
      ]
    },
    {
      "cell_type": "code",
      "execution_count": 45,
      "outputs": [],
      "metadata": {},
      "source": [
        "def classify_sentiment(score):\n",
        "    if score < -0.3:\n",
        "        return 'negative'\n",
        "    elif score > 0.3:\n",
        "        return 'positive'\n",
        "    else:\n",
        "        return 'neutral'\n",
        "\n",
        "df_z['sentiment'] = df_z['sentiment_score'].apply(classify_sentiment)\n",
        ""
      ]
    },
    {
      "cell_type": "code",
      "execution_count": 46,
      "outputs": [],
      "metadata": {},
      "source": [
        "print(df_z['sentiment'].value_counts())\n",
        ""
      ]
    },
    {
      "cell_type": "code",
      "execution_count": 47,
      "outputs": [],
      "metadata": {},
      "source": [
        "df_z.head()"
      ]
    },
    {
      "cell_type": "code",
      "execution_count": 50,
      "outputs": [],
      "metadata": {},
      "source": [
        "import pyarrow as pa\n",
        "import pyarrow.parquet as pq\n",
        "\n",
        "# 1. Convert pandas DataFrame to Parquet format in memory\n",
        "buffer = BytesIO()\n",
        "table = pa.Table.from_pandas(df_z)\n",
        "pq.write_table(table, buffer)\n",
        "buffer.seek(0)  # Reset buffer position\n",
        "\n",
        "# 2. Define the path within your Gold layer in the container\n",
        "filename = \"Gold/Search Trends/trends_with_sentiment.parquet\"\n",
        "\n",
        "# 3. Initialize BlobServiceClient\n",
        "connection_string = os.getenv(\"AZURE_STORAGE_CONNECTION_STRING\")\n",
        "blob_service_client = BlobServiceClient.from_connection_string(connection_string)\n",
        "blob_client = blob_service_client.get_blob_client(container=\"team5container\", blob=filename)\n",
        "\n",
        "# 4. Upload Parquet file to Blob Storage\n",
        "blob_client.upload_blob(buffer, overwrite=True)\n",
        "print(f\"File uploaded successfully to Blob Storage: {filename}\")\n",
        ""
      ]
    },
    {
      "cell_type": "code",
      "execution_count": null,
      "outputs": [],
      "metadata": {},
      "source": []
    }
  ]
}